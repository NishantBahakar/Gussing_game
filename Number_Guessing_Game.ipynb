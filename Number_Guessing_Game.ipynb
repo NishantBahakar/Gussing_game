{
 "cells": [
  {
   "cell_type": "code",
   "execution_count": 1,
   "id": "03e9764e",
   "metadata": {},
   "outputs": [
    {
     "name": "stdout",
     "output_type": "stream",
     "text": [
      "Enter the number:3\n",
      "TOO Low\n",
      "Enter the number again:2\n",
      "TOO Low\n",
      "Enter the number again:4\n",
      "TOO Low\n",
      "Enter the number again:6\n",
      "You Guesses it Right!!\n"
     ]
    }
   ],
   "source": [
    "# NUMBER GUESSING GAME USING PYTHON\n",
    "\n",
    "import random\n",
    "n = random.randrange(1,10)\n",
    "guess= int(input(\"Enter the number:\"))\n",
    "\n",
    "while n!= guess:\n",
    "    if guess < n:\n",
    "        print(\"TOO Low\")\n",
    "        guess= int(input(\"Enter the number again:\"))\n",
    "    elif guess > n:\n",
    "        print(\"TOO High!\")\n",
    "        guess = int(input(\"Enter the number again:\"))\n",
    "    else:\n",
    "        break\n",
    "        \n",
    "print(\"You Guesses it Right!!\")"
   ]
  },
  {
   "cell_type": "code",
   "execution_count": null,
   "id": "f6c177ff",
   "metadata": {},
   "outputs": [],
   "source": []
  },
  {
   "cell_type": "code",
   "execution_count": null,
   "id": "e2d058f7",
   "metadata": {},
   "outputs": [],
   "source": []
  }
 ],
 "metadata": {
  "kernelspec": {
   "display_name": "Python 3 (ipykernel)",
   "language": "python",
   "name": "python3"
  },
  "language_info": {
   "codemirror_mode": {
    "name": "ipython",
    "version": 3
   },
   "file_extension": ".py",
   "mimetype": "text/x-python",
   "name": "python",
   "nbconvert_exporter": "python",
   "pygments_lexer": "ipython3",
   "version": "3.9.13"
  }
 },
 "nbformat": 4,
 "nbformat_minor": 5
}
